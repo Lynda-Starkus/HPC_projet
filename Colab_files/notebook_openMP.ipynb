{
 "cells": [
  {
   "cell_type": "markdown",
   "metadata": {
    "id": "JzAPlezCq_GJ"
   },
   "source": [
    "## **Solutions parallèles pour la résolution des systèmes d'équations linéaires par la méthode d'élimination Gauss-Jordan**\n",
    "\n",
    "-**Réalisé par :** \n",
    "> - *Lamdani Wilem (2CS SIQ3)*\n",
    "> - *Belkessa Linda (2CS SIQ3)*\n",
    "\n",
    "- **Encadré par :**\n",
    "> - *Mme. Haichour Salima*\n",
    "\n"
   ]
  },
  {
   "cell_type": "markdown",
   "metadata": {
    "id": "vNindPQX-Xjo"
   },
   "source": [
    "### **Présentation de l'algorithme d'élimination Gauss-Jordan :**\n",
    "> L'élimination Gauss-Jordan vise à transformer un système d'équations linéaires en une matrice triangulaire supérieure afin de résoudre les inconnues et d'en déduire une solution. Une colonne pivot est utilisée pour réduire les lignes qui la précèdent ; puis après la transformation, la back-substitution est appliquée.\n",
    "\n",
    "> ![image1](https://i.ibb.co/XxfnZVH/gelim-cuda-1.png)\n",
    "\n",
    "> **Exemple :**\n",
    "\n",
    "> (1) Pour effectuer une élimination gaussienne en commençant par le système d'équations :\n",
    "![image2](https://media.cheggcdn.com/study/e2c/e2c66011-05e7-4974-baf9-29eb251a44aa/DC-1723V1.png)\n",
    "\n",
    "> (2) Composer la matrice augmentée \n",
    "\n",
    ">![image3](https://media.cheggcdn.com/study/1f2/1f287abc-807e-4412-86f7-9db40d587115/DC-1723V2.png)\n",
    "\n",
    "> (3) Mettre la matrice augmentée sous forme de matrice triangulaire supérieure \n",
    "\n",
    "> ![image3](https://media.cheggcdn.com/study/cae/cae5db46-d3b6-4909-8764-185a6398c5c3/DC-1723V3.png)\n",
    "\n",
    "> (4) Résooudre l'équation de la ième ligne pour , puis remettez-la dans l'équation de la (k-1)ère ligne pour\n",
    "obtenir une solution pour Xk-1, etc., selon la formule\n",
    "\n",
    ">![Formule](https://i.ibb.co/FYnhh9W/image-2022-02-03-230208.png)\n",
    "\n",
    ">![image4](https://media.cheggcdn.com/study/0ac/0ac1e07c-7f57-4c91-9d45-f3db808dad1c/DC-1723V4.png)"
   ]
  },
  {
   "cell_type": "markdown",
   "metadata": {
    "id": "bQKc1pljIzqy"
   },
   "source": [
    "### **Implémentation séquentielle :**\n",
    "- **Principe :**    \n",
    "***\n",
    "```C\n",
    "Loop 1 : for (norm = 0; norm < N - 1; norm++) {\n",
    "            Loop 2 : for (row = norm + 1; row < N; row++) {\n",
    "                                     multiplier = A[row][norm] / A[norm][norm];\n",
    "                      Loop 3 : for (col = norm; col < N; col++) {\n",
    "                                            A[row][col] -= A[norm][col] * multiplier;\n",
    "                                     }\n",
    "                                     B[row] -= B[norm] * multiplier;\n",
    "                           }\n",
    "                }\n",
    "\n",
    "```\n",
    "***\n",
    "\n"
   ]
  },
  {
   "cell_type": "markdown",
   "metadata": {
    "id": "Lr8ZpGOmnwyi"
   },
   "source": [
    "### **Méthodologie de parallèlisation avec openMP :**\n",
    "Pour pouvoir bien utiliser openMP, il faut dans un premier temps répondre aux questions suivantes :    \n",
    "1- Quelles sont les boucles parallèlisable ? \n",
    "> - Les boucles dont le nombre d'itérations est connu dès le départ et qui ne change pas\n",
    "> - Les boucles où chaque itération est indépendante des autres\n",
    "> - Les boucles qui ne contiennet pas une dépendence de données (avec les boucles externes en général)\n",
    "\n",
    "Observons d'abord comment s'effectue l'élimination de Gauss-Jordan visuellement, 4 scénarios sont possibles:      \n",
    "> ![gauss-jordan viz](https://i.ibb.co/3TbRjb3/Gaussian-Elimination-1.png)\n",
    "\n",
    "- La boucle i est représentée par la ligne et la colonne jaunes. Les entrées dans la ligne et la colonne jaunes sont utilisées pour mettre à jour la sous-matrice verte avant de passer à la ligne/colonne i+1, ce qui signifie que les valeurs des entrées dans la (i+1)ère zone jaune dépendent des opérations effectuées sur eux aux valeurs précédentes de i. Par conséquent, nous ne pouvons pas utiliser OpenMP pour paralléliser cette boucle en raison de la dépendance des données.\n",
    "\n",
    "- La boucle j a un nombre d'itérations qui varie avec i, mais nous connaissons le nombre d'itérations à chaque fois que nous sommes sur le point d'entrer dans la boucle. Aucune des itérations ultérieures ne dépend des précédentes et les itérations peuvent être calculées dans n'importe quel ordre ! La boucle j est donc parallélisable.\n",
    "\n",
    "- La boucle k, comme la boucle j, a un nombre d'itérations qui varie mais qui est calculable pour chaque i. Aucune des itérations ultérieures ne dépend des précédentes, et elles peuvent toutes être calculées dans n'importe quel ordre. Par conséquent, la boucle k est également parallélisable.\n",
    "\n",
    "> __*Conclusion :*__ Il est préférable de sélectionner la boucle externe (j), car nous aurons alors plus de parallélisme ininterrompu et moins de fork et de join.\n",
    "\n",
    "\n"
   ]
  },
  {
   "cell_type": "markdown",
   "metadata": {
    "id": "qM46LQTMNUlL"
   },
   "source": [
    "### **Implémentation du code avec openMP:**     \n",
    "> 1. La boucle externe (Loop 1) ne peut pas etre parallèlisée car elle contient une variable liée au controle de la boucle interne (Loop 2)\n",
    "\n",
    "> 2. La boucle interne (Loop 2) nne contient aucune dépendence de donnée d'où elle est parallèlisable\n",
    "\n",
    "> 3. La matrice A, le vecteur B et l'index de la boucle externe 'norm' et N seront partagées (shared).\n",
    "\n",
    "> 4. Idée globale : Durant la première itération de la boucle externe (Loop 1), on initialise toutes les entrées dans column[0] en commençant de row[1]. \n",
    "Dand la boucle interne (Loop 2) chaque thread s'occupe d'additionner une ligne un multiple (par un scalaire) d'une autre ligne à fin d'avoir 0. à la sortie de la boucle interne, la boucle externe passe à la prochaine colonne, il s'agit ici de l'échelonnement par colonnes. Puis, on effectue une opération de backsubstitution pour résoudre l'équation."
   ]
  },
  {
   "cell_type": "markdown",
   "metadata": {
    "id": "Lh9ohya9Glri"
   },
   "source": [
    "> #### **Remarque importante:** \n",
    "> Google Colab n'offre dans cette version gratuite que 2 processeurs chacun avec 1 core, ce qui n'est pas suffisant pour comparer l'exécution séquentielle et parallèle, il est souhaitable d'exécuter le code openMP avec des ressources locaux.\n",
    "\n",
    "Pour dérouler le code openMP/Séqueniel localement, on peut utiliser un environnement d'exécution locale pour exploiter les coeurs CPU de la machine, pour celà :\n",
    "> - Dans le dossier drice, télécharger 'sequentiel.c' et 'openMP.c' et 'notebook_openMP.ipynb'.\n",
    "- Installer jupyter notebook localement `pip install notebook`\n",
    "- Lancer un notebook local `jupyter notebook`\n",
    "- Téléverser les fichiers téléchargés dans le répértoire local et lancer l'exécution.\n",
    "- Ou utiliser un IDE (avec compilateur gcc)"
   ]
  },
  {
   "cell_type": "code",
   "execution_count": 1,
   "metadata": {
    "id": "8g5CBJRTcS6s"
   },
   "outputs": [],
   "source": [
    "!gcc sequentiel.c -o sequentiel"
   ]
  },
  {
   "cell_type": "code",
   "execution_count": 4,
   "metadata": {
    "id": "LewDPjeYcgYm"
   },
   "outputs": [
    {
     "name": "stdout",
     "output_type": "stream",
     "text": [
      "\n",
      "Dimension de la matrice N = 256. Seed (germe) = 2 .\n",
      "\n",
      "Initialisation...\n",
      "Execution sequentielle ... .\n",
      "\n",
      "Temps d'exÃ©cution SÃ©quentiel = 12.965 ms.\n"
     ]
    }
   ],
   "source": [
    "!sequentiel 256 2"
   ]
  },
  {
   "cell_type": "code",
   "execution_count": 5,
   "metadata": {},
   "outputs": [
    {
     "name": "stdout",
     "output_type": "stream",
     "text": [
      "\n",
      "Dimension de la matrice N = 512. Seed (germe) = 2 .\n",
      "\n",
      "Initialisation...\n",
      "Execution sequentielle ... .\n",
      "\n",
      "Temps d'exÃ©cution SÃ©quentiel = 92.065 ms.\n"
     ]
    }
   ],
   "source": [
    "!sequentiel 512 2"
   ]
  },
  {
   "cell_type": "code",
   "execution_count": 6,
   "metadata": {},
   "outputs": [
    {
     "name": "stdout",
     "output_type": "stream",
     "text": [
      "\n",
      "Dimension de la matrice N = 1024. Seed (germe) = 2 .\n",
      "\n",
      "Initialisation...\n",
      "Execution sequentielle ... .\n",
      "\n",
      "Temps d'exÃ©cution SÃ©quentiel = 754.473 ms.\n"
     ]
    }
   ],
   "source": [
    "!sequentiel 1024 2"
   ]
  },
  {
   "cell_type": "code",
   "execution_count": 7,
   "metadata": {},
   "outputs": [
    {
     "name": "stdout",
     "output_type": "stream",
     "text": [
      "\n",
      "Dimension de la matrice N = 2048. Seed (germe) = 2 .\n",
      "\n",
      "Initialisation...\n",
      "Execution sequentielle ... .\n",
      "\n",
      "Temps d'exÃ©cution SÃ©quentiel = 6442.76 ms.\n"
     ]
    }
   ],
   "source": [
    "!sequentiel 2048 2"
   ]
  },
  {
   "cell_type": "code",
   "execution_count": 10,
   "metadata": {
    "id": "-0ENct7hb98l"
   },
   "outputs": [],
   "source": [
    "##2 cores\n",
    "!gcc -fopenmp openMP.c -o openmp"
   ]
  },
  {
   "cell_type": "code",
   "execution_count": 12,
   "metadata": {
    "id": "K6yjnqt_cGyU"
   },
   "outputs": [
    {
     "name": "stdout",
     "output_type": "stream",
     "text": [
      "\n",
      "Dimension de la matrice N = 256. Seed (germe) = 2 .\n",
      "\n",
      "Initialisation...\n",
      "Execution parallele avec openMP.\n",
      "\n",
      "Temps d'exÃ©cution avec openMP = 15.634 ms.\n"
     ]
    }
   ],
   "source": [
    "!openmp 256 2"
   ]
  },
  {
   "cell_type": "code",
   "execution_count": 13,
   "metadata": {},
   "outputs": [
    {
     "name": "stdout",
     "output_type": "stream",
     "text": [
      "\n",
      "Dimension de la matrice N = 512. Seed (germe) = 2 .\n",
      "\n",
      "Initialisation...\n",
      "Execution parallele avec openMP.\n",
      "\n",
      "Temps d'exÃ©cution avec openMP = 71.215 ms.\n"
     ]
    }
   ],
   "source": [
    "!openmp 512 2"
   ]
  },
  {
   "cell_type": "code",
   "execution_count": 14,
   "metadata": {},
   "outputs": [
    {
     "name": "stdout",
     "output_type": "stream",
     "text": [
      "\n",
      "Dimension de la matrice N = 1024. Seed (germe) = 2 .\n",
      "\n",
      "Initialisation...\n",
      "Execution parallele avec openMP.\n",
      "\n",
      "Temps d'exÃ©cution avec openMP = 451.438 ms.\n"
     ]
    }
   ],
   "source": [
    "!openmp 1024 2"
   ]
  },
  {
   "cell_type": "code",
   "execution_count": 15,
   "metadata": {
    "scrolled": true
   },
   "outputs": [
    {
     "name": "stdout",
     "output_type": "stream",
     "text": [
      "\n",
      "Dimension de la matrice N = 2048. Seed (germe) = 2 .\n",
      "\n",
      "Initialisation...\n",
      "Execution parallele avec openMP.\n",
      "\n",
      "Temps d'exÃ©cution avec openMP = 3430.68 ms.\n"
     ]
    }
   ],
   "source": [
    "!openmp 2048 2"
   ]
  },
  {
   "cell_type": "code",
   "execution_count": 23,
   "metadata": {},
   "outputs": [],
   "source": [
    "## 4 cores\n",
    "!gcc -fopenmp openMP.c -o openmp"
   ]
  },
  {
   "cell_type": "code",
   "execution_count": 24,
   "metadata": {},
   "outputs": [
    {
     "name": "stdout",
     "output_type": "stream",
     "text": [
      "\n",
      "Dimension de la matrice N = 256. Seed (germe) = 2 .\n",
      "\n",
      "Initialisation...\n",
      "Execution parallele avec openMP.\n",
      "\n",
      "Temps d'exÃ©cution avec openMP = 26.537 ms.\n"
     ]
    }
   ],
   "source": [
    "!openmp 256 2"
   ]
  },
  {
   "cell_type": "code",
   "execution_count": 25,
   "metadata": {},
   "outputs": [
    {
     "name": "stdout",
     "output_type": "stream",
     "text": [
      "\n",
      "Dimension de la matrice N = 512. Seed (germe) = 2 .\n",
      "\n",
      "Initialisation...\n",
      "Execution parallele avec openMP.\n",
      "\n",
      "Temps d'exÃ©cution avec openMP = 41.481 ms.\n"
     ]
    }
   ],
   "source": [
    "!openmp 512 2"
   ]
  },
  {
   "cell_type": "code",
   "execution_count": 26,
   "metadata": {},
   "outputs": [
    {
     "name": "stdout",
     "output_type": "stream",
     "text": [
      "\n",
      "Dimension de la matrice N = 1024. Seed (germe) = 2 .\n",
      "\n",
      "Initialisation...\n",
      "Execution parallele avec openMP.\n",
      "\n",
      "Temps d'exÃ©cution avec openMP = 340.611 ms.\n"
     ]
    }
   ],
   "source": [
    "!openmp 1024 2"
   ]
  },
  {
   "cell_type": "code",
   "execution_count": 27,
   "metadata": {},
   "outputs": [
    {
     "name": "stdout",
     "output_type": "stream",
     "text": [
      "\n",
      "Dimension de la matrice N = 2048. Seed (germe) = 2 .\n",
      "\n",
      "Initialisation...\n",
      "Execution parallele avec openMP.\n",
      "\n",
      "Temps d'exÃ©cution avec openMP = 2426.51 ms.\n"
     ]
    }
   ],
   "source": [
    "!openmp 2048 2"
   ]
  }
 ],
 "metadata": {
  "accelerator": "GPU",
  "colab": {
   "collapsed_sections": [],
   "name": "projet_hpc_Lamdani_Belkessa_2cssiq3.ipynb",
   "provenance": []
  },
  "kernelspec": {
   "display_name": "Python 3 (ipykernel)",
   "language": "python",
   "name": "python3"
  },
  "language_info": {
   "codemirror_mode": {
    "name": "ipython",
    "version": 3
   },
   "file_extension": ".py",
   "mimetype": "text/x-python",
   "name": "python",
   "nbconvert_exporter": "python",
   "pygments_lexer": "ipython3",
   "version": "3.10.1"
  }
 },
 "nbformat": 4,
 "nbformat_minor": 1
}
